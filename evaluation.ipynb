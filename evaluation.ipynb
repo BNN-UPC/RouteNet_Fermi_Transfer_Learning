{
 "cells": [
  {
   "cell_type": "markdown",
   "metadata": {},
   "source": [
    "# Evaluation\n",
    "In this notebook you can load the checkpoints and evaluate\n",
    "\n",
    "## License\n",
    "\n",
    "\n",
    "Copyright 2024 Universitat Politècnica de Catalunya\n",
    "\n",
    "Licensed under the Apache License, Version 2.0 (the \"License\");\n",
    "you may not use this file except in compliance with the License.\n",
    "You may obtain a copy of the License at\n",
    "\n",
    "   http://www.apache.org/licenses/LICENSE-2.0\n",
    "\n",
    "Unless required by applicable law or agreed to in writing, software\n",
    "distributed under the License is distributed on an \"AS IS\" BASIS,\n",
    "WITHOUT WARRANTIES OR CONDITIONS OF ANY KIND, either express or implied.\n",
    "See the License for the specific language governing permissions and\n",
    "limitations under the License."
   ]
  },
  {
   "cell_type": "code",
   "execution_count": 1,
   "metadata": {},
   "outputs": [
    {
     "name": "stderr",
     "output_type": "stream",
     "text": [
      "2024-11-23 14:00:23.116293: I external/local_tsl/tsl/cuda/cudart_stub.cc:31] Could not find cuda drivers on your machine, GPU will not be used.\n",
      "2024-11-23 14:00:23.135444: E external/local_xla/xla/stream_executor/cuda/cuda_dnn.cc:9261] Unable to register cuDNN factory: Attempting to register factory for plugin cuDNN when one has already been registered\n",
      "2024-11-23 14:00:23.135463: E external/local_xla/xla/stream_executor/cuda/cuda_fft.cc:607] Unable to register cuFFT factory: Attempting to register factory for plugin cuFFT when one has already been registered\n",
      "2024-11-23 14:00:23.136012: E external/local_xla/xla/stream_executor/cuda/cuda_blas.cc:1515] Unable to register cuBLAS factory: Attempting to register factory for plugin cuBLAS when one has already been registered\n",
      "2024-11-23 14:00:23.139218: I external/local_tsl/tsl/cuda/cudart_stub.cc:31] Could not find cuda drivers on your machine, GPU will not be used.\n",
      "2024-11-23 14:00:23.139551: I tensorflow/core/platform/cpu_feature_guard.cc:182] This TensorFlow binary is optimized to use available CPU instructions in performance-critical operations.\n",
      "To enable the following instructions: AVX2 FMA, in other operations, rebuild TensorFlow with the appropriate compiler flags.\n",
      "2024-11-23 14:00:23.600119: W tensorflow/compiler/tf2tensorrt/utils/py_utils.cc:38] TF-TRT Warning: Could not find TensorRT\n"
     ]
    }
   ],
   "source": [
    "import os\n",
    "\n",
    "os.environ[\"CUDA_VISIBLE_DEVICES\"] = \"-1\"\n",
    "\n",
    "import tensorflow as tf\n",
    "import pickle\n",
    "from utils import prepare_targets_and_mask\n",
    "from models import RouteNet_temporal_delay\n",
    "\n",
    "# RUN EAGERLY -> True for debugging\n",
    "RUN_EAGERLY = False\n",
    "tf.config.run_functions_eagerly(RUN_EAGERLY)"
   ]
  },
  {
   "cell_type": "markdown",
   "metadata": {},
   "source": [
    "## Datasets"
   ]
  },
  {
   "cell_type": "code",
   "execution_count": 2,
   "metadata": {},
   "outputs": [],
   "source": [
    "def load_dataset(\n",
    "    dir_path: str,\n",
    "    target_transform_mapping=prepare_targets_and_mask(\n",
    "        [\"flow_avg_delay_per_seg\"], \"flow_has_delay\"\n",
    "    ),\n",
    "    partitions=[\"validation\", \"test\"],\n",
    "):\n",
    "    \"\"\"\n",
    "    Loads a dataset from the specified directory path.\n",
    "\n",
    "    Parameters\n",
    "    ----------\n",
    "    dir_path: str\n",
    "        Path to dataset directory.\n",
    "    target_transform_mapping: Optional[Callable]\n",
    "        A map function to preprocess the target data. Defaults to default preprocess for\n",
    "        paper experiments.\n",
    "    partitions: Optional[List[str]]\n",
    "        List of partitions to load. Defaults to validation and test partitions\n",
    "\n",
    "    Returns\n",
    "    -------\n",
    "    Union[tf.data.Dataset, Tuple[tf.data.Dataset]]\n",
    "        Returns requested partions. If more than one partition is requested, returns a\n",
    "        tuple.\n",
    "    \"\"\"\n",
    "\n",
    "    dir_path = \"data/\" + dir_path\n",
    "    ds_list = [\n",
    "        (\n",
    "            tf.data.Dataset.load(os.path.join(dir_path, partition), compression=\"GZIP\")\n",
    "            .prefetch(tf.data.experimental.AUTOTUNE)\n",
    "            .map(target_transform_mapping)\n",
    "        )\n",
    "        for partition in partitions\n",
    "    ]\n",
    "    if len(ds_list) == 1:\n",
    "        return ds_list[0]\n",
    "    return tuple(ds_list)"
   ]
  },
  {
   "cell_type": "code",
   "execution_count": 3,
   "metadata": {},
   "outputs": [
    {
     "name": "stderr",
     "output_type": "stream",
     "text": [
      "2024-11-23 14:00:24.239440: E external/local_xla/xla/stream_executor/cuda/cuda_driver.cc:274] failed call to cuInit: CUDA_ERROR_NO_DEVICE: no CUDA-capable device is detected\n",
      "2024-11-23 14:00:24.239467: I external/local_xla/xla/stream_executor/cuda/cuda_diagnostics.cc:129] retrieving CUDA diagnostic information for host: pluto\n",
      "2024-11-23 14:00:24.239471: I external/local_xla/xla/stream_executor/cuda/cuda_diagnostics.cc:136] hostname: pluto\n",
      "2024-11-23 14:00:24.239522: I external/local_xla/xla/stream_executor/cuda/cuda_diagnostics.cc:159] libcuda reported version is: 515.65.1\n",
      "2024-11-23 14:00:24.239535: I external/local_xla/xla/stream_executor/cuda/cuda_diagnostics.cc:163] kernel reported version is: 515.65.1\n",
      "2024-11-23 14:00:24.239538: I external/local_xla/xla/stream_executor/cuda/cuda_diagnostics.cc:241] kernel version seems to match DSO: 515.65.1\n"
     ]
    }
   ],
   "source": [
    "ds_poisson_only_topo_val, ds_poisson_only_topo_test = load_dataset(\n",
    "    \"data_seg_poisson_0_4_100_v2/topo_5_10_2_SP_k_4\"\n",
    ")\n",
    "ds_on_off_only_topo_val, ds_on_off_only_topo_test = load_dataset(\n",
    "    \"data_seg_on_off_0_4_100_v2/topo_5_10_2_SP_k_4\"\n",
    ")\n",
    "ds_sim_poisson_on_off_val = load_dataset(\n",
    "    \"data_seg_poisson_on_off_simulated_0_4_100\", partitions=[\"validation\"]\n",
    ")"
   ]
  },
  {
   "cell_type": "markdown",
   "metadata": {},
   "source": [
    "# Models"
   ]
  },
  {
   "cell_type": "code",
   "execution_count": 4,
   "metadata": {},
   "outputs": [],
   "source": [
    "def load_model(\n",
    "    model_class: tf.keras.Model,\n",
    "    model_params=dict(),\n",
    "):\n",
    "    \"\"\"\n",
    "    Loads a model with the specified hyperparameters.\n",
    "\n",
    "    Parameters\n",
    "    ----------\n",
    "    model_class: tf.keras.Model\n",
    "        Model class to load.\n",
    "    model_params: Optional[Dict]\n",
    "        Hyperparameters for the model initialization function.\n",
    "\n",
    "    Returns\n",
    "    -------\n",
    "    tf.keras.Model\n",
    "        Returns a model object\n",
    "    \"\"\"\n",
    "    # Dummy z_scores only for model initialization, will be replaced by the actual\n",
    "    # z_scores in evaluation\n",
    "    dummy_z_scores = {kk: [0, 1] for kk in model_class.z_scores_fields}\n",
    "    model = model_class(\n",
    "        z_scores=dummy_z_scores,\n",
    "        **model_params,\n",
    "    )\n",
    "    model.compile(\n",
    "        optimizer=tf.keras.optimizers.Adam(learning_rate=0.001, clipnorm=1.0),\n",
    "        loss=tf.keras.losses.MeanAbsolutePercentageError(),\n",
    "        run_eagerly=RUN_EAGERLY,\n",
    "    )\n",
    "    return model\n",
    "\n",
    "\n",
    "def evaluate_model(model, experiment_path, ckpt, ds_list):\n",
    "    \"\"\"Loads specified checkpoint and evaluates the models in the specified datasets.\n",
    "\n",
    "    Parameters\n",
    "    ----------\n",
    "    model : tf.keras.Model\n",
    "        Instance of the model to evaluate.\n",
    "    experiment_path : str\n",
    "        Experiment path\n",
    "    ckpt : str\n",
    "        Checkpoint file name. Should be included in the experiment path\n",
    "    ds_list : List[Tuple[tf.data.Dataset, str]]\n",
    "        List of datasets to evaluate. Each element on the list must be a tuple with the\n",
    "        dataset instance and a name (for stdout).\n",
    "    \"\"\"\n",
    "    with open(\n",
    "        os.path.join(\"normalization\", experiment_path, \"z_scores.pkl\"), \"rb\"\n",
    "    ) as ff:\n",
    "        z_scores = pickle.load(ff)\n",
    "    model.set_z_scores(z_scores)\n",
    "    model.load_weights(os.path.join(\"ckpt\", experiment_path, ckpt)).expect_partial()\n",
    "\n",
    "    for ds, ds_name in ds_list:\n",
    "        print(f\"{ds_name} MAPE: {model.evaluate(ds):.3f}\")"
   ]
  },
  {
   "cell_type": "code",
   "execution_count": 5,
   "metadata": {},
   "outputs": [],
   "source": [
    "model_fermi_temporal_delay = load_model(\n",
    "    RouteNet_temporal_delay, {\"output_dim\": 1, \"mask_field\": \"flow_has_delay\"}\n",
    ")"
   ]
  },
  {
   "cell_type": "markdown",
   "metadata": {},
   "source": [
    "## Experiments\n",
    "Evaluating the validation dataset is useful to guarantee the checkpoint has been correctly loaded. Nonetheless, stick to the test partition for accurately evaluating the model's perfomance.\n",
    "\n",
    "### Simulator + full data baseline"
   ]
  },
  {
   "cell_type": "code",
   "execution_count": 6,
   "metadata": {},
   "outputs": [
    {
     "name": "stdout",
     "output_type": "stream",
     "text": [
      "1252/1252 [==============================] - 616s 489ms/step - loss: 3.7848\n",
      "Validation MAPE: 3.785\n",
      "4/4 [==============================] - 1s 347ms/step - loss: 60.9054\n",
      "Poisson topo_5_10_2_SP_k_4 test MAPE: 60.905\n",
      "5/5 [==============================] - 2s 346ms/step - loss: 57.1431\n",
      "On-Off topo_5_10_2_SP_k_4 test MAPE: 57.143\n"
     ]
    }
   ],
   "source": [
    "evaluate_model(\n",
    "    model_fermi_temporal_delay,\n",
    "    \"baselines/data_seg_poisson_on_off_simulated_0_4_100/RouteNet_temporal_delay/500_steps/avg_delay\",\n",
    "    \"120-0.0132\", \n",
    "    [\n",
    "        (ds_sim_poisson_on_off_val, \"Validation\"),\n",
    "        (ds_poisson_only_topo_test, \"Poisson topo_5_10_2_SP_k_4 test\"),\n",
    "        (ds_on_off_only_topo_test, \"On-Off topo_5_10_2_SP_k_4 test\"),\n",
    "    ]\n",
    ")"
   ]
  },
  {
   "cell_type": "markdown",
   "metadata": {},
   "source": [
    "### Poisson\n",
    "\n",
    "#### Baseline"
   ]
  },
  {
   "cell_type": "code",
   "execution_count": 7,
   "metadata": {},
   "outputs": [
    {
     "name": "stdout",
     "output_type": "stream",
     "text": [
      "6/6 [==============================] - 2s 343ms/step - loss: 4.8612\n",
      "Validation MAPE: 4.861\n",
      "4/4 [==============================] - 1s 345ms/step - loss: 6.1522\n",
      "Poisson topo_5_10_2_SP_k_4 test MAPE: 6.152\n"
     ]
    }
   ],
   "source": [
    "evaluate_model(\n",
    "    model_fermi_temporal_delay,\n",
    "    \"baselines/data_seg_poisson_0_4_100_v2/topo_5_10_2_SP_k_4/RouteNet_temporal_delay/500_steps/avg_delay\",\n",
    "    \"79-0.0066\", \n",
    "    [\n",
    "        (ds_poisson_only_topo_val, \"Validation\"),\n",
    "        (ds_poisson_only_topo_test, \"Poisson topo_5_10_2_SP_k_4 test\"),\n",
    "    ]\n",
    ")"
   ]
  },
  {
   "cell_type": "markdown",
   "metadata": {},
   "source": [
    "#### Fine-tune Results"
   ]
  },
  {
   "cell_type": "code",
   "execution_count": 8,
   "metadata": {},
   "outputs": [
    {
     "name": "stdout",
     "output_type": "stream",
     "text": [
      "ENCODING FREEZE, MPA FREEZE, READOUT FINE-TUNE\n",
      "6/6 [==============================] - 2s 339ms/step - loss: 2.6783\n",
      "Validation MAPE: 2.678\n",
      "4/4 [==============================] - 1s 347ms/step - loss: 3.4254\n",
      "Poisson topo_5_10_2_SP_k_4 test MAPE: 3.425\n"
     ]
    }
   ],
   "source": [
    "print(\"ENCODING FREEZE, MPA FREEZE, READOUT FINE-TUNE\")\n",
    "evaluate_model(\n",
    "    model_fermi_temporal_delay,\n",
    "    \"fine_tuning/data_seg_poisson_0_4_100_v2/topo_5_10_2_SP_k_4/og_ds_data_seg_poisson_on_off_simulated_0_4_100/RouteNet_temporal_delay/freeze_encoding_mp_window/finetune_readout/all_samples/avg_delay\",\n",
    "    \"475-0.0011\",\n",
    "    [\n",
    "        (ds_poisson_only_topo_val, \"Validation\"),\n",
    "        (ds_poisson_only_topo_test, \"Poisson topo_5_10_2_SP_k_4 test\"),\n",
    "    ]\n",
    ")"
   ]
  },
  {
   "cell_type": "code",
   "execution_count": 9,
   "metadata": {},
   "outputs": [
    {
     "name": "stdout",
     "output_type": "stream",
     "text": [
      "ENCODING FREEZE, MPA FREEZE, READOUT RE-TRAIN\n",
      "6/6 [==============================] - 2s 347ms/step - loss: 5.4867\n",
      "Validation MAPE: 5.487\n",
      "4/4 [==============================] - 1s 347ms/step - loss: 6.4988\n",
      "Poisson topo_5_10_2_SP_k_4 test MAPE: 6.499\n"
     ]
    }
   ],
   "source": [
    "print(\"ENCODING FREEZE, MPA FREEZE, READOUT RE-TRAIN\")\n",
    "evaluate_model(\n",
    "    model_fermi_temporal_delay,\n",
    "    \"fine_tuning/data_seg_poisson_0_4_100_v2/topo_5_10_2_SP_k_4/og_ds_data_seg_poisson_on_off_simulated_0_4_100/RouteNet_temporal_delay/freeze_encoding_mp_window/retrain_readout/all_samples/avg_delay\",\n",
    "    \"943-0.0068\",\n",
    "    [\n",
    "        (ds_poisson_only_topo_val, \"Validation\"),\n",
    "        (ds_poisson_only_topo_test, \"Poisson topo_5_10_2_SP_k_4 test\"),\n",
    "    ]\n",
    ")"
   ]
  },
  {
   "cell_type": "code",
   "execution_count": 10,
   "metadata": {},
   "outputs": [
    {
     "name": "stdout",
     "output_type": "stream",
     "text": [
      "ENCODING FREEZE, MPA FINE-TUNE, READOUT FINE-TUNE\n",
      "6/6 [==============================] - 2s 344ms/step - loss: 1.8679\n",
      "Validation MAPE: 1.868\n",
      "4/4 [==============================] - 1s 333ms/step - loss: 1.6825\n",
      "Poisson topo_5_10_2_SP_k_4 test MAPE: 1.682\n"
     ]
    }
   ],
   "source": [
    "print(\"ENCODING FREEZE, MPA FINE-TUNE, READOUT FINE-TUNE\")\n",
    "evaluate_model(\n",
    "    model_fermi_temporal_delay,\n",
    "    \"fine_tuning/data_seg_poisson_0_4_100_v2/topo_5_10_2_SP_k_4/og_ds_data_seg_poisson_on_off_simulated_0_4_100/RouteNet_temporal_delay/freeze_encoding/finetune_mp_window_readout/all_samples/avg_delay\",\n",
    "    \"131-0.0006\",\n",
    "    [\n",
    "        (ds_poisson_only_topo_val, \"Validation\"),\n",
    "        (ds_poisson_only_topo_test, \"Poisson topo_5_10_2_SP_k_4 test\"),\n",
    "    ]\n",
    ")"
   ]
  },
  {
   "cell_type": "code",
   "execution_count": 11,
   "metadata": {},
   "outputs": [
    {
     "name": "stdout",
     "output_type": "stream",
     "text": [
      "ENCODING FREEZE, MPA FINE-TUNE, READOUT RE-TRAIN\n",
      "6/6 [==============================] - 2s 338ms/step - loss: 2.0102\n",
      "Validation MAPE: 2.010\n",
      "4/4 [==============================] - 1s 334ms/step - loss: 1.1047\n",
      "Poisson topo_5_10_2_SP_k_4 test MAPE: 1.105\n"
     ]
    }
   ],
   "source": [
    "print(\"ENCODING FREEZE, MPA FINE-TUNE, READOUT RE-TRAIN\")\n",
    "evaluate_model(\n",
    "    model_fermi_temporal_delay,\n",
    "    \"fine_tuning/data_seg_poisson_0_4_100_v2/topo_5_10_2_SP_k_4/og_ds_data_seg_poisson_on_off_simulated_0_4_100/RouteNet_temporal_delay/freeze_encoding/finetune_mp_window/retrain_readout/all_samples/avg_delay\",\n",
    "    \"787-0.0012\", \n",
    "    [\n",
    "        (ds_poisson_only_topo_val, \"Validation\"),\n",
    "        (ds_poisson_only_topo_test, \"Poisson topo_5_10_2_SP_k_4 test\"),\n",
    "    ]\n",
    ")"
   ]
  },
  {
   "cell_type": "code",
   "execution_count": 12,
   "metadata": {},
   "outputs": [
    {
     "name": "stdout",
     "output_type": "stream",
     "text": [
      "ENCODING FREEZE, MPA RE-TRAIN, READOUT RE-TRAIN\n",
      "6/6 [==============================] - 2s 341ms/step - loss: 2.0109\n",
      "Validation MAPE: 2.011\n",
      "4/4 [==============================] - 1s 345ms/step - loss: 1.1063\n",
      "Poisson topo_5_10_2_SP_k_4 test MAPE: 1.106\n"
     ]
    }
   ],
   "source": [
    "print(\"ENCODING FREEZE, MPA RE-TRAIN, READOUT RE-TRAIN\")\n",
    "evaluate_model(\n",
    "    model_fermi_temporal_delay,\n",
    "    \"fine_tuning/data_seg_poisson_0_4_100_v2/topo_5_10_2_SP_k_4/og_ds_data_seg_poisson_on_off_simulated_0_4_100/RouteNet_temporal_delay/freeze_encoding/retrain_mp_window_readout/all_samples/avg_delay\",\n",
    "    \"784-0.0012\",\n",
    "    [\n",
    "        (ds_poisson_only_topo_val, \"Validation\"),\n",
    "        (ds_poisson_only_topo_test, \"Poisson topo_5_10_2_SP_k_4 test\"),\n",
    "    ]\n",
    ")"
   ]
  },
  {
   "cell_type": "code",
   "execution_count": 13,
   "metadata": {},
   "outputs": [
    {
     "name": "stdout",
     "output_type": "stream",
     "text": [
      "ENCODING FINE-TUNE, MPA FINE-TUNE, READOUT FINE-TUNE\n"
     ]
    },
    {
     "name": "stdout",
     "output_type": "stream",
     "text": [
      "6/6 [==============================] - 2s 345ms/step - loss: 1.8111\n",
      "Validation MAPE: 1.811\n",
      "4/4 [==============================] - 1s 339ms/step - loss: 1.7423\n",
      "Poisson topo_5_10_2_SP_k_4 test MAPE: 1.742\n"
     ]
    }
   ],
   "source": [
    "print(\"ENCODING FINE-TUNE, MPA FINE-TUNE, READOUT FINE-TUNE\")\n",
    "evaluate_model(\n",
    "    model_fermi_temporal_delay,\n",
    "    \"fine_tuning/data_seg_poisson_0_4_100_v2/topo_5_10_2_SP_k_4/og_ds_data_seg_poisson_on_off_simulated_0_4_100/RouteNet_temporal_delay/finetune_encoding_mp_window_readout/all_samples/avg_delay\",\n",
    "    \"131-0.0006\", \n",
    "    [\n",
    "        (ds_poisson_only_topo_val, \"Validation\"),\n",
    "        (ds_poisson_only_topo_test, \"Poisson topo_5_10_2_SP_k_4 test\"),\n",
    "    ]\n",
    ")"
   ]
  },
  {
   "cell_type": "code",
   "execution_count": 14,
   "metadata": {},
   "outputs": [
    {
     "name": "stdout",
     "output_type": "stream",
     "text": [
      "ENCODING FINE-TUNE, MPA FINE-TUNE, READOUT RE-TRAIN\n",
      "6/6 [==============================] - 2s 346ms/step - loss: 3.3501\n",
      "Validation MAPE: 3.350\n",
      "4/4 [==============================] - 1s 345ms/step - loss: 2.9188\n",
      "Poisson topo_5_10_2_SP_k_4 test MAPE: 2.919\n"
     ]
    }
   ],
   "source": [
    "print(\"ENCODING FINE-TUNE, MPA FINE-TUNE, READOUT RE-TRAIN\")\n",
    "evaluate_model(\n",
    "    model_fermi_temporal_delay,\n",
    "    \"fine_tuning/data_seg_poisson_0_4_100_v2/topo_5_10_2_SP_k_4/og_ds_data_seg_poisson_on_off_simulated_0_4_100/RouteNet_temporal_delay/finetune_encoding_mp_window/retrain_readout/all_samples/avg_delay/\",\n",
    "    \"491-0.0022\",\n",
    "    [\n",
    "        (ds_poisson_only_topo_val, \"Validation\"),\n",
    "        (ds_poisson_only_topo_test, \"Poisson topo_5_10_2_SP_k_4 test\"),\n",
    "    ]\n",
    ")"
   ]
  },
  {
   "cell_type": "code",
   "execution_count": 15,
   "metadata": {},
   "outputs": [
    {
     "name": "stdout",
     "output_type": "stream",
     "text": [
      "ENCODING FINE-TUNE, MPA RE-TRAIN, READOUT RE-TRAIN\n",
      "6/6 [==============================] - 2s 343ms/step - loss: 3.3501\n",
      "Validation MAPE: 3.350\n",
      "4/4 [==============================] - 1s 346ms/step - loss: 2.9188\n",
      "Poisson topo_5_10_2_SP_k_4 test MAPE: 2.919\n"
     ]
    }
   ],
   "source": [
    "print(\"ENCODING FINE-TUNE, MPA RE-TRAIN, READOUT RE-TRAIN\")\n",
    "evaluate_model(\n",
    "    model_fermi_temporal_delay,\n",
    "    \"fine_tuning/data_seg_poisson_0_4_100_v2/topo_5_10_2_SP_k_4/og_ds_data_seg_poisson_on_off_simulated_0_4_100/RouteNet_temporal_delay/finetune_encoding/retrain_mp_window_readout/all_samples/avg_delay\",\n",
    "    \"491-0.0022\",\n",
    "    [\n",
    "        (ds_poisson_only_topo_val, \"Validation\"),\n",
    "        (ds_poisson_only_topo_test, \"Poisson topo_5_10_2_SP_k_4 test\"),\n",
    "    ]\n",
    ")"
   ]
  },
  {
   "cell_type": "markdown",
   "metadata": {},
   "source": [
    "### On-off\n",
    "\n",
    "#### Baseline"
   ]
  },
  {
   "cell_type": "code",
   "execution_count": 16,
   "metadata": {},
   "outputs": [
    {
     "name": "stdout",
     "output_type": "stream",
     "text": [
      "7/7 [==============================] - 2s 344ms/step - loss: 2.8188\n",
      "Validation MAPE: 2.819\n",
      "5/5 [==============================] - 2s 339ms/step - loss: 3.1816\n",
      "Poisson topo_5_10_2_SP_k_4 test MAPE: 3.182\n"
     ]
    }
   ],
   "source": [
    "evaluate_model(\n",
    "    model_fermi_temporal_delay,\n",
    "    \"baselines/data_seg_on_off_0_4_100_v2/topo_5_10_2_SP_k_4/RouteNet_temporal_delay/500_steps/avg_delay\",\n",
    "    \"43-0.0021\", \n",
    "    [\n",
    "        (ds_on_off_only_topo_val, \"Validation\"),\n",
    "        (ds_on_off_only_topo_test, \"Poisson topo_5_10_2_SP_k_4 test\"),\n",
    "    ]\n",
    ")"
   ]
  },
  {
   "cell_type": "markdown",
   "metadata": {},
   "source": [
    "#### Fine-tune Results"
   ]
  },
  {
   "cell_type": "code",
   "execution_count": 17,
   "metadata": {},
   "outputs": [
    {
     "name": "stdout",
     "output_type": "stream",
     "text": [
      "ENCODING FREEZE, MPA FREEZE, READOUT FINE-TUNE\n",
      "7/7 [==============================] - 2s 346ms/step - loss: 3.4110\n",
      "Validation MAPE: 3.411\n",
      "5/5 [==============================] - 2s 348ms/step - loss: 3.1710\n",
      "Poisson topo_5_10_2_SP_k_4 test MAPE: 3.171\n"
     ]
    }
   ],
   "source": [
    "print(\"ENCODING FREEZE, MPA FREEZE, READOUT FINE-TUNE\")\n",
    "evaluate_model(\n",
    "    model_fermi_temporal_delay,\n",
    "    \"fine_tuning/data_seg_on_off_0_4_100_v2/topo_5_10_2_SP_k_4/og_ds_data_seg_poisson_on_off_simulated_0_4_100/RouteNet_temporal_delay/freeze_encoding_mp_window/finetune_readout/all_samples/avg_delay\",\n",
    "    \"447-0.0021\",\n",
    "    [\n",
    "        (ds_on_off_only_topo_val, \"Validation\"),\n",
    "        (ds_on_off_only_topo_test, \"Poisson topo_5_10_2_SP_k_4 test\"),\n",
    "    ]\n",
    ")"
   ]
  },
  {
   "cell_type": "code",
   "execution_count": 18,
   "metadata": {},
   "outputs": [
    {
     "name": "stdout",
     "output_type": "stream",
     "text": [
      "ENCODING FREEZE, MPA FREEZE, READOUT RE-TRAIN\n",
      "7/7 [==============================] - 2s 346ms/step - loss: 3.6688\n",
      "Validation MAPE: 3.669\n",
      "5/5 [==============================] - 2s 348ms/step - loss: 4.2412\n",
      "Poisson topo_5_10_2_SP_k_4 test MAPE: 4.241\n"
     ]
    }
   ],
   "source": [
    "print(\"ENCODING FREEZE, MPA FREEZE, READOUT RE-TRAIN\")\n",
    "evaluate_model(\n",
    "    model_fermi_temporal_delay,\n",
    "    \"fine_tuning/data_seg_on_off_0_4_100_v2/topo_5_10_2_SP_k_4/og_ds_data_seg_poisson_on_off_simulated_0_4_100/RouteNet_temporal_delay/freeze_encoding_mp_window/retrain_readout/all_samples/avg_delay\",\n",
    "    \"666-0.0022\",\n",
    "    [\n",
    "        (ds_on_off_only_topo_val, \"Validation\"),\n",
    "        (ds_on_off_only_topo_test, \"Poisson topo_5_10_2_SP_k_4 test\"),\n",
    "    ]\n",
    ")"
   ]
  },
  {
   "cell_type": "code",
   "execution_count": 19,
   "metadata": {},
   "outputs": [
    {
     "name": "stdout",
     "output_type": "stream",
     "text": [
      "ENCODING FREEZE, MPA FINE-TUNE, READOUT FINE-TUNE\n",
      "7/7 [==============================] - 2s 333ms/step - loss: 1.5293\n",
      "Validation MAPE: 1.529\n",
      "5/5 [==============================] - 2s 345ms/step - loss: 1.4254\n",
      "Poisson topo_5_10_2_SP_k_4 test MAPE: 1.425\n"
     ]
    }
   ],
   "source": [
    "print(\"ENCODING FREEZE, MPA FINE-TUNE, READOUT FINE-TUNE\")\n",
    "evaluate_model(\n",
    "    model_fermi_temporal_delay,\n",
    "    \"fine_tuning/data_seg_on_off_0_4_100_v2/topo_5_10_2_SP_k_4/og_ds_data_seg_poisson_on_off_simulated_0_4_100/RouteNet_temporal_delay/freeze_encoding/finetune_mp_window_readout/all_samples/avg_delay\",\n",
    "    \"124-0.0005\", \n",
    "    [\n",
    "        (ds_on_off_only_topo_val, \"Validation\"),\n",
    "        (ds_on_off_only_topo_test, \"Poisson topo_5_10_2_SP_k_4 test\"),\n",
    "    ]\n",
    ")"
   ]
  },
  {
   "cell_type": "code",
   "execution_count": 20,
   "metadata": {},
   "outputs": [
    {
     "name": "stdout",
     "output_type": "stream",
     "text": [
      "ENCODING FREEZE, MPA FINE-TUNE, READOUT RE-TRAIN\n",
      "7/7 [==============================] - 2s 345ms/step - loss: 0.9653\n",
      "Validation MAPE: 0.965\n",
      "5/5 [==============================] - 2s 344ms/step - loss: 1.2917\n",
      "Poisson topo_5_10_2_SP_k_4 test MAPE: 1.292\n"
     ]
    }
   ],
   "source": [
    "print(\"ENCODING FREEZE, MPA FINE-TUNE, READOUT RE-TRAIN\")\n",
    "evaluate_model(\n",
    "    model_fermi_temporal_delay,\n",
    "    \"fine_tuning/data_seg_on_off_0_4_100_v2/topo_5_10_2_SP_k_4/og_ds_data_seg_poisson_on_off_simulated_0_4_100/RouteNet_temporal_delay/freeze_encoding/finetune_mp_window/retrain_readout/all_samples/avg_delay\",\n",
    "    \"548-0.0002\",\n",
    "    [\n",
    "        (ds_on_off_only_topo_val, \"Validation\"),\n",
    "        (ds_on_off_only_topo_test, \"Poisson topo_5_10_2_SP_k_4 test\"),\n",
    "    ]\n",
    ")"
   ]
  },
  {
   "cell_type": "code",
   "execution_count": 21,
   "metadata": {},
   "outputs": [
    {
     "name": "stdout",
     "output_type": "stream",
     "text": [
      "ENCODING FREEZE, MPA RE-TRAIN, READOUT RE-TRAIN\n",
      "7/7 [==============================] - 2s 343ms/step - loss: 0.9653\n",
      "Validation MAPE: 0.965\n",
      "5/5 [==============================] - 2s 346ms/step - loss: 1.2917\n",
      "Poisson topo_5_10_2_SP_k_4 test MAPE: 1.292\n"
     ]
    }
   ],
   "source": [
    "print(\"ENCODING FREEZE, MPA RE-TRAIN, READOUT RE-TRAIN\")\n",
    "evaluate_model(\n",
    "    model_fermi_temporal_delay,\n",
    "    \"fine_tuning/data_seg_on_off_0_4_100_v2/topo_5_10_2_SP_k_4/og_ds_data_seg_poisson_on_off_simulated_0_4_100/RouteNet_temporal_delay/freeze_encoding/retrain_mp_window_readout/all_samples/avg_delay\",\n",
    "    \"548-0.0002\",\n",
    "    [\n",
    "        (ds_on_off_only_topo_val, \"Validation\"),\n",
    "        (ds_on_off_only_topo_test, \"Poisson topo_5_10_2_SP_k_4 test\"),\n",
    "    ]\n",
    ")"
   ]
  },
  {
   "cell_type": "code",
   "execution_count": 22,
   "metadata": {},
   "outputs": [
    {
     "name": "stdout",
     "output_type": "stream",
     "text": [
      "ENCODING FINE-TUNE, MPA FINE-TUNE, READOUT FINE-TUNE\n",
      "7/7 [==============================] - 2s 345ms/step - loss: 1.5051\n",
      "Validation MAPE: 1.505\n",
      "5/5 [==============================] - 2s 347ms/step - loss: 1.3802\n",
      "Poisson topo_5_10_2_SP_k_4 test MAPE: 1.380\n"
     ]
    }
   ],
   "source": [
    "print(\"ENCODING FINE-TUNE, MPA FINE-TUNE, READOUT FINE-TUNE\")\n",
    "evaluate_model(\n",
    "    model_fermi_temporal_delay,\n",
    "    \"fine_tuning/data_seg_on_off_0_4_100_v2/topo_5_10_2_SP_k_4/og_ds_data_seg_poisson_on_off_simulated_0_4_100/RouteNet_temporal_delay/finetune_encoding_mp_window_readout/all_samples/avg_delay\",\n",
    "    \"116-0.0005\", \n",
    "    [\n",
    "        (ds_on_off_only_topo_val, \"Validation\"),\n",
    "        (ds_on_off_only_topo_test, \"Poisson topo_5_10_2_SP_k_4 test\"),\n",
    "    ]\n",
    ")"
   ]
  },
  {
   "cell_type": "code",
   "execution_count": 23,
   "metadata": {},
   "outputs": [
    {
     "name": "stdout",
     "output_type": "stream",
     "text": [
      "ENCODING FINE-TUNE, MPA FINE-TUNE, READOUT RE-TRAIN\n",
      "7/7 [==============================] - 2s 344ms/step - loss: 1.8603\n",
      "Validation MAPE: 1.860\n",
      "5/5 [==============================] - 2s 341ms/step - loss: 1.9546\n",
      "Poisson topo_5_10_2_SP_k_4 test MAPE: 1.955\n"
     ]
    }
   ],
   "source": [
    "print(\"ENCODING FINE-TUNE, MPA FINE-TUNE, READOUT RE-TRAIN\")\n",
    "evaluate_model(\n",
    "    model_fermi_temporal_delay,\n",
    "    \"fine_tuning/data_seg_on_off_0_4_100_v2/topo_5_10_2_SP_k_4/og_ds_data_seg_poisson_on_off_simulated_0_4_100/RouteNet_temporal_delay/finetune_encoding_mp_window/retrain_readout/all_samples/avg_delay\",\n",
    "    \"456-0.0008\",\n",
    "    [\n",
    "        (ds_on_off_only_topo_val, \"Validation\"),\n",
    "        (ds_on_off_only_topo_test, \"Poisson topo_5_10_2_SP_k_4 test\"),\n",
    "    ]\n",
    ")"
   ]
  },
  {
   "cell_type": "code",
   "execution_count": 24,
   "metadata": {},
   "outputs": [
    {
     "name": "stdout",
     "output_type": "stream",
     "text": [
      "ENCODING FINE-TUNE, MPA RE-TRAIN, READOUT RE-TRAIN\n",
      "7/7 [==============================] - 2s 344ms/step - loss: 1.8603\n",
      "Validation MAPE: 1.860\n",
      "5/5 [==============================] - 2s 346ms/step - loss: 1.9546\n",
      "Poisson topo_5_10_2_SP_k_4 test MAPE: 1.955\n"
     ]
    }
   ],
   "source": [
    "print(\"ENCODING FINE-TUNE, MPA RE-TRAIN, READOUT RE-TRAIN\")\n",
    "evaluate_model(\n",
    "    model_fermi_temporal_delay,\n",
    "    \"fine_tuning/data_seg_on_off_0_4_100_v2/topo_5_10_2_SP_k_4/og_ds_data_seg_poisson_on_off_simulated_0_4_100/RouteNet_temporal_delay/finetune_encoding/retrain_mp_window_readout/all_samples/avg_delay\",\n",
    "    \"456-0.0008\",\n",
    "    [\n",
    "        (ds_on_off_only_topo_val, \"Validation\"),\n",
    "        (ds_on_off_only_topo_test, \"Poisson topo_5_10_2_SP_k_4 test\"),\n",
    "    ]\n",
    ")"
   ]
  }
 ],
 "metadata": {
  "kernelspec": {
   "display_name": "TF2.15",
   "language": "python",
   "name": "python3"
  },
  "language_info": {
   "codemirror_mode": {
    "name": "ipython",
    "version": 3
   },
   "file_extension": ".py",
   "mimetype": "text/x-python",
   "name": "python",
   "nbconvert_exporter": "python",
   "pygments_lexer": "ipython3",
   "version": "3.9.5"
  }
 },
 "nbformat": 4,
 "nbformat_minor": 2
}
